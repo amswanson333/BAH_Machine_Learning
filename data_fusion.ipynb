{
 "cells": [
  {
   "cell_type": "markdown",
   "metadata": {},
   "source": [
    "# Fusing Data\n",
    "\n",
    "Data comes from five sources:\n",
    "\n",
    "1. BAH data available from https://www.travel.dod.mil/Allowances/Basic-Allowance-for-Housing/BAH-Rate-Lookup/\n",
    "2. Housing Price Index for ​Three-Digit ZIP Codes (Developmental Index; Not Seasonally Adjusted) available from https://www.fhfa.gov/data/hpi/datasets?tab=quarterly-data\n",
    "3. US City average consumer price index for all items available from https://data.bls.gov/timeseries/CUUR0000SA0\n",
    "4. Political Party control of different branches of Federal government (Congress, House, Presidency)\n",
    "5. Location data for each military housing area based on the data available from https://www.kaggle.com/datasets/mexwell/us-military-bases/data\n"
   ]
  },
  {
   "cell_type": "markdown",
   "metadata": {},
   "source": [
    "*Package Imports*"
   ]
  },
  {
   "cell_type": "code",
   "execution_count": 14,
   "metadata": {
    "tags": [
     "imports"
    ]
   },
   "outputs": [],
   "source": [
    "import pandas as pd\n",
    "import numpy as np\n",
    "import matplotlib.pyplot as plt\n",
    "import os\n",
    "import re\n",
    "from geopy.geocoders import Nominatim"
   ]
  },
  {
   "cell_type": "markdown",
   "metadata": {},
   "source": [
    "*Global Variables/Settings*"
   ]
  },
  {
   "cell_type": "code",
   "execution_count": 2,
   "metadata": {
    "tags": [
     "parameters"
    ]
   },
   "outputs": [],
   "source": [
    "raw_dir = \"Raw Data\"\n",
    "fuse_dir = \"Fused Data\"\n",
    "clean_dir = \"Clean Data\""
   ]
  },
  {
   "cell_type": "markdown",
   "metadata": {},
   "source": [
    "*Metadata Files*"
   ]
  },
  {
   "cell_type": "code",
   "execution_count": 48,
   "metadata": {},
   "outputs": [],
   "source": [
    "mha_names_df = pd.read_csv(os.path.join(raw_dir,\"mhanames.csv\"))\n",
    "mha_zips_df = pd.read_csv(os.path.join(raw_dir,\"sorted_zipmha.csv\"))"
   ]
  },
  {
   "cell_type": "markdown",
   "metadata": {},
   "source": [
    "## 1. BAH Data\n",
    "\n",
    "BAH Data is separated by year and is generally available as an ASCII/csv file. Data is further spread across two categories: with and without dependents.\n",
    "\n",
    "The ASCII/csv file does not include headers, but a PDF that accompanies the data includes definitions of the columns as follows:\n",
    "\n",
    "| Column | Data Type |\n",
    "|---|---|\n",
    "| MHA | CHAR (5) |\n",
    "| E1 | NUM |\n",
    "| E2 | NUM |\n",
    "| E3 | NUM |\n",
    "| E4 | NUM |\n",
    "| E5 | NUM |\n",
    "| E6 | NUM |\n",
    "| E7 | NUM |\n",
    "| E8 | NUM |\n",
    "| E9 | NUM |\n",
    "| W1 | NUM |\n",
    "| W2 | NUM |\n",
    "| W3 | NUM |\n",
    "| W4 | NUM |\n",
    "| W5 | NUM |\n",
    "| O1E | NUM |\n",
    "| O2E | NUM |\n",
    "| O3E | NUM |\n",
    "| O1 | NUM |\n",
    "| O2 | NUM |\n",
    "| O3 | NUM |\n",
    "| O4 | NUM |\n",
    "| O5 | NUM |\n",
    "| O6 | NUM |\n",
    "| O7 | NUM |\n",
    "\n",
    "Some CSV files also include ranks O8-O10, but do not specify it in their data definitions. Columns are expanded below to account for the difference. If those values do not exist then they are populated with null values."
   ]
  },
  {
   "cell_type": "code",
   "execution_count": 78,
   "metadata": {},
   "outputs": [],
   "source": [
    "# Create the column labels for the CSV files\n",
    "csv_header = [\"MHA\", \n",
    "              \"E1\", \"E2\", \"E3\", \"E4\", \"E5\", \"E6\", \"E7\", \"E8\", \"E9\", \n",
    "              \"W1\", \"W2\", \"W3\", \"W4\", \"W5\", \n",
    "              \"O1E\", \"O2E\", \"O3E\", \n",
    "              \"O1\", \"O2\", \"O3\", \"O4\", \"O5\", \"O6\", \"O7\", \"O8\", \"O9\", \"O10\"]\n",
    "\n",
    "# Create the column labels for the final dataframe\n",
    "final_header = [\"Dependents\", \"Year\", \"MHA\", \n",
    "                \"E1\", \"E2\", \"E3\", \"E4\", \"E5\", \"E6\", \"E7\", \"E8\", \"E9\", \n",
    "                \"W1\", \"W2\", \"W3\", \"W4\", \"W5\", \n",
    "                \"O1E\", \"O2E\", \"O3E\", \n",
    "                \"O1\", \"O2\", \"O3\", \"O4\", \"O5\", \"O6\", \"O7\", \"O8\", \"O9\", \"O10\"]\n"
   ]
  },
  {
   "cell_type": "code",
   "execution_count": 79,
   "metadata": {},
   "outputs": [],
   "source": [
    "# get the list of data files\n",
    "bah_path = os.path.join(raw_dir, \"BAH Data\")\n",
    "files = os.listdir(bah_path)\n",
    "\n",
    "# create blank dataframe\n",
    "bah_df = pd.DataFrame(columns=final_header)"
   ]
  },
  {
   "cell_type": "code",
   "execution_count": 80,
   "metadata": {},
   "outputs": [
    {
     "name": "stderr",
     "output_type": "stream",
     "text": [
      "C:\\Users\\keyan\\AppData\\Local\\Temp\\ipykernel_50344\\1993258847.py:24: FutureWarning: The behavior of DataFrame concatenation with empty or all-NA entries is deprecated. In a future version, this will no longer exclude empty or all-NA columns when determining the result dtypes. To retain the old behavior, exclude the relevant entries before the concat operation.\n",
      "  bah_df = pd.concat([bah_df, df])\n"
     ]
    }
   ],
   "source": [
    "for file in files:\n",
    "    path = os.path.join(bah_path, file)\n",
    "    name, ext = os.path.splitext(file)\n",
    "    \n",
    "    year = name[-2:]\n",
    "    # if year = 9_ then set it to 199_, otherwise it is 20__\n",
    "    if year[0] == \"9\":\n",
    "        year = \"19\" + year\n",
    "    else:\n",
    "        year = \"20\" + year\n",
    "    year = int(year)\n",
    "    \n",
    "    dependents = name[-3:-2]\n",
    "    # dependents = 1 for with (w) and 0 for without (o)\n",
    "    if dependents == \"w\":\n",
    "        dependents = 1\n",
    "    else:\n",
    "        dependents = 0\n",
    "    \n",
    "    # read file to dataframe\n",
    "    df = pd.read_csv(path, names=csv_header)\n",
    "    df.insert(loc=0, column=\"Year\", value = year)\n",
    "    df.insert(loc=0, column=\"Dependents\", value = dependents)\n",
    "    bah_df = pd.concat([bah_df, df])"
   ]
  },
  {
   "cell_type": "code",
   "execution_count": 82,
   "metadata": {},
   "outputs": [],
   "source": [
    "# save dataframe to file\n",
    "bah_df.to_csv(os.path.join(bah_path, \"bah_df.csv\"), index=False)"
   ]
  },
  {
   "cell_type": "markdown",
   "metadata": {},
   "source": [
    "Unused MHAs will be removed at a later step."
   ]
  },
  {
   "cell_type": "markdown",
   "metadata": {},
   "source": [
    "## 2. Housing Price Index Data\n",
    "\n",
    ">The FHFA HPI is a broad measure of the movement of single-family house prices. The FHFA HPI is a weighted, repeat-sales index, meaning that it measures average price changes in repeat sales or refinancings on the same properties. This information is obtained by reviewing repeat mortgage transactions on single-family properties whose mortgages have been purchased or securitized by Fannie Mae or Freddie Mac since January 1975.\n",
    ">FHFA House Price Index | FHFA. (2025, January 28). FHFA.gov. https://www.fhfa.gov/data/hpi\n",
    "\n",
    "‌"
   ]
  },
  {
   "cell_type": "code",
   "execution_count": 83,
   "metadata": {},
   "outputs": [],
   "source": [
    "# identify the data path\n",
    "hpi_path = os.path.join(raw_dir, \"HPI Data\")"
   ]
  },
  {
   "cell_type": "code",
   "execution_count": 88,
   "metadata": {},
   "outputs": [
    {
     "data": {
      "text/html": [
       "<div>\n",
       "<style scoped>\n",
       "    .dataframe tbody tr th:only-of-type {\n",
       "        vertical-align: middle;\n",
       "    }\n",
       "\n",
       "    .dataframe tbody tr th {\n",
       "        vertical-align: top;\n",
       "    }\n",
       "\n",
       "    .dataframe thead th {\n",
       "        text-align: right;\n",
       "    }\n",
       "</style>\n",
       "<table border=\"1\" class=\"dataframe\">\n",
       "  <thead>\n",
       "    <tr style=\"text-align: right;\">\n",
       "      <th></th>\n",
       "      <th>Three-Digit ZIP Code</th>\n",
       "      <th>Year</th>\n",
       "      <th>Quarter</th>\n",
       "      <th>Index (NSA)</th>\n",
       "      <th>Index Type</th>\n",
       "    </tr>\n",
       "  </thead>\n",
       "  <tbody>\n",
       "    <tr>\n",
       "      <th>0</th>\n",
       "      <td>10</td>\n",
       "      <td>1995</td>\n",
       "      <td>1</td>\n",
       "      <td>100.00</td>\n",
       "      <td>Native 3-Digit ZIP index</td>\n",
       "    </tr>\n",
       "    <tr>\n",
       "      <th>1</th>\n",
       "      <td>10</td>\n",
       "      <td>1995</td>\n",
       "      <td>2</td>\n",
       "      <td>101.39</td>\n",
       "      <td>Native 3-Digit ZIP index</td>\n",
       "    </tr>\n",
       "    <tr>\n",
       "      <th>2</th>\n",
       "      <td>10</td>\n",
       "      <td>1995</td>\n",
       "      <td>3</td>\n",
       "      <td>103.63</td>\n",
       "      <td>Native 3-Digit ZIP index</td>\n",
       "    </tr>\n",
       "    <tr>\n",
       "      <th>3</th>\n",
       "      <td>10</td>\n",
       "      <td>1995</td>\n",
       "      <td>4</td>\n",
       "      <td>103.66</td>\n",
       "      <td>Native 3-Digit ZIP index</td>\n",
       "    </tr>\n",
       "    <tr>\n",
       "      <th>4</th>\n",
       "      <td>10</td>\n",
       "      <td>1996</td>\n",
       "      <td>1</td>\n",
       "      <td>104.96</td>\n",
       "      <td>Native 3-Digit ZIP index</td>\n",
       "    </tr>\n",
       "  </tbody>\n",
       "</table>\n",
       "</div>"
      ],
      "text/plain": [
       "   Three-Digit ZIP Code  Year  Quarter  Index (NSA)                Index Type\n",
       "0                    10  1995        1       100.00  Native 3-Digit ZIP index\n",
       "1                    10  1995        2       101.39  Native 3-Digit ZIP index\n",
       "2                    10  1995        3       103.63  Native 3-Digit ZIP index\n",
       "3                    10  1995        4       103.66  Native 3-Digit ZIP index\n",
       "4                    10  1996        1       104.96  Native 3-Digit ZIP index"
      ]
     },
     "execution_count": 88,
     "metadata": {},
     "output_type": "execute_result"
    }
   ],
   "source": [
    "# read data file into a dataframe\n",
    "hpi_df = pd.read_excel(os.path.join(hpi_path,\"hpi_at_3zip.xlsx\"),skiprows=3, header=1)\n",
    "hpi_df.head()"
   ]
  },
  {
   "cell_type": "code",
   "execution_count": 89,
   "metadata": {},
   "outputs": [],
   "source": [
    "# remove extraneous index types\n",
    "hpi_df.drop(hpi_df.loc[hpi_df[\"Index Type\"]!=\"Native 3-Digit ZIP index\"].index, inplace=True)"
   ]
  },
  {
   "cell_type": "code",
   "execution_count": 91,
   "metadata": {},
   "outputs": [],
   "source": [
    "# save the dataframe to a CSV\n",
    "hpi_df.to_csv(os.path.join(hpi_path, \"hpi_df.csv\"))"
   ]
  },
  {
   "cell_type": "markdown",
   "metadata": {},
   "source": [
    "## 5. Location Data\n",
    "\n",
    "A dataset containing latitude and longitude coordinates for various military bases. This is used to create geographic similarities between different bases."
   ]
  },
  {
   "cell_type": "code",
   "execution_count": 5,
   "metadata": {},
   "outputs": [],
   "source": [
    "# File path\n",
    "loc_path = os.path.join(raw_dir, \"Location Data\\\\military-bases.csv\")"
   ]
  },
  {
   "cell_type": "code",
   "execution_count": 11,
   "metadata": {},
   "outputs": [
    {
     "data": {
      "text/html": [
       "<div>\n",
       "<style scoped>\n",
       "    .dataframe tbody tr th:only-of-type {\n",
       "        vertical-align: middle;\n",
       "    }\n",
       "\n",
       "    .dataframe tbody tr th {\n",
       "        vertical-align: top;\n",
       "    }\n",
       "\n",
       "    .dataframe thead th {\n",
       "        text-align: right;\n",
       "    }\n",
       "</style>\n",
       "<table border=\"1\" class=\"dataframe\">\n",
       "  <thead>\n",
       "    <tr style=\"text-align: right;\">\n",
       "      <th></th>\n",
       "      <th>Geo Point</th>\n",
       "      <th>COMPONENT</th>\n",
       "      <th>Site Name</th>\n",
       "      <th>Joint Base</th>\n",
       "      <th>State Terr</th>\n",
       "      <th>COUNTRY</th>\n",
       "      <th>AREA</th>\n",
       "    </tr>\n",
       "  </thead>\n",
       "  <tbody>\n",
       "    <tr>\n",
       "      <th>2</th>\n",
       "      <td>33.1594636742, -106.425696182</td>\n",
       "      <td>Army Active</td>\n",
       "      <td>White Sands Missile Range NM</td>\n",
       "      <td>NaN</td>\n",
       "      <td>New Mexico</td>\n",
       "      <td>United States</td>\n",
       "      <td>3548.570164</td>\n",
       "    </tr>\n",
       "    <tr>\n",
       "      <th>5</th>\n",
       "      <td>21.3621462703, -157.718266082</td>\n",
       "      <td>MC Active</td>\n",
       "      <td>MC Trng Area Bellows</td>\n",
       "      <td>NaN</td>\n",
       "      <td>Hawaii</td>\n",
       "      <td>United States</td>\n",
       "      <td>1.611546</td>\n",
       "    </tr>\n",
       "    <tr>\n",
       "      <th>7</th>\n",
       "      <td>27.8965304593, -98.0434307225</td>\n",
       "      <td>Navy Active</td>\n",
       "      <td>ALF Orange</td>\n",
       "      <td>NaN</td>\n",
       "      <td>Texas</td>\n",
       "      <td>United States</td>\n",
       "      <td>5.293969</td>\n",
       "    </tr>\n",
       "    <tr>\n",
       "      <th>9</th>\n",
       "      <td>42.7402329675, -115.563336812</td>\n",
       "      <td>AF Active</td>\n",
       "      <td>Saylor Creek Air Force Range</td>\n",
       "      <td>NaN</td>\n",
       "      <td>Idaho</td>\n",
       "      <td>United States</td>\n",
       "      <td>171.097376</td>\n",
       "    </tr>\n",
       "    <tr>\n",
       "      <th>10</th>\n",
       "      <td>29.3567318395, -100.782932919</td>\n",
       "      <td>AF Active</td>\n",
       "      <td>Laughlin AFB</td>\n",
       "      <td>NaN</td>\n",
       "      <td>Texas</td>\n",
       "      <td>United States</td>\n",
       "      <td>6.396106</td>\n",
       "    </tr>\n",
       "  </tbody>\n",
       "</table>\n",
       "</div>"
      ],
      "text/plain": [
       "                        Geo Point    COMPONENT                     Site Name  \\\n",
       "2   33.1594636742, -106.425696182  Army Active  White Sands Missile Range NM   \n",
       "5   21.3621462703, -157.718266082    MC Active          MC Trng Area Bellows   \n",
       "7   27.8965304593, -98.0434307225  Navy Active                    ALF Orange   \n",
       "9   42.7402329675, -115.563336812    AF Active  Saylor Creek Air Force Range   \n",
       "10  29.3567318395, -100.782932919    AF Active                  Laughlin AFB   \n",
       "\n",
       "   Joint Base  State Terr        COUNTRY         AREA  \n",
       "2         NaN  New Mexico  United States  3548.570164  \n",
       "5         NaN      Hawaii  United States     1.611546  \n",
       "7         NaN       Texas  United States     5.293969  \n",
       "9         NaN       Idaho  United States   171.097376  \n",
       "10        NaN       Texas  United States     6.396106  "
      ]
     },
     "execution_count": 11,
     "metadata": {},
     "output_type": "execute_result"
    }
   ],
   "source": [
    "# Load data to a data frame\n",
    "loc_df = pd.read_csv(loc_path, delimiter=\";\")\n",
    "\n",
    "# eliminate inactive bases\n",
    "loc_df.drop(loc_df.loc[loc_df[\"Oper Stat\"]==\"Inactive\"].index, inplace=True)\n",
    "\n",
    "# drop bases not within the United States\n",
    "loc_df.drop(loc_df.loc[loc_df[\"COUNTRY\"]!=\"United States\"].index, inplace=True)\n",
    "\n",
    "# Remove unnecessary features\n",
    "loc_ft_del = [\"Geo Shape\", \"OBJECTID_1\", \"OBJECTID\", \"PERIMETER\", \"Oper Stat\", \"Shape_Leng\", \"Shape_Area\"]\n",
    "loc_df.drop(columns=loc_ft_del, axis=1, inplace=True)\n",
    "\n",
    "# Remove Guard and Reserve locations\n",
    "loc_df.drop(loc_df.loc[loc_df[\"COMPONENT\"].str.contains(\"Guard\")].index, inplace=True)\n",
    "loc_df.drop(loc_df.loc[loc_df[\"COMPONENT\"].str.contains(\"Reserve\")].index, inplace=True)\n",
    "\n",
    "# Remove small areas\n",
    "loc_df.drop(loc_df.loc[loc_df[\"AREA\"]<1].index, inplace=True)\n",
    "\n",
    "loc_df.head()"
   ]
  },
  {
   "cell_type": "code",
   "execution_count": null,
   "metadata": {},
   "outputs": [],
   "source": [
    "# write dataframe to CSV file\n",
    "loc_path = os.path.join(raw_dir, \"Location Data\\\\loc_df_reduced.csv\")\n",
    "loc_df.to_csv(loc_path, index=False)"
   ]
  },
  {
   "cell_type": "markdown",
   "metadata": {},
   "source": [
    "From this point data is manually reduced by cross-referencing https://installations.militaryonesource.mil/view-all"
   ]
  },
  {
   "cell_type": "markdown",
   "metadata": {},
   "source": [
    "Data Reduction rationale:\n",
    "- Inactive bases are dropped due to lack of military population in the area due to base closure\n",
    "- Bases outside of the CONUS (plus Hawaii and Alaska) likely have different economic situations and are not considered due to likely outliers\n",
    "- Features are removed due to being irrelevant, most were used for mapping purposes\n",
    "- Guard and Reserve members do not normally receive BAH so those bases/areas were removed\n",
    "- Small areas were removed to reduce to major military populations, small areas were indicative of very small federal property that wouldn't contribute to actual personnel numbers"
   ]
  },
  {
   "cell_type": "code",
   "execution_count": null,
   "metadata": {},
   "outputs": [],
   "source": [
    "# read back in the reduced data\n",
    "loc_df = pd.read_csv(loc_path)"
   ]
  },
  {
   "cell_type": "code",
   "execution_count": null,
   "metadata": {},
   "outputs": [
    {
     "name": "stdout",
     "output_type": "stream",
     "text": [
      "[Location(Maxwell Air Force Base, Burkett Drive, Montgomery, Montgomery County, Alabama, 36113, United States, (32.3818479, -86.35330759865383, 0.0)), Location(Mariner Road, Madison County, Alabama, United States, (34.63287805104256, -86.65713769680043, 0.0)), Location(Elwood Avenue, Calhoun County, Alabama, United States, (33.6522778, -85.9688511, 0.0)), Location(Dale County, Alabama, United States, (31.39992542910119, -85.74747847025453, 0.0)), Location(AN/GSC-52 SATCOM terminal, Satellite Communications Facility, Unorganized Borough, Alaska, United States, (52.72235205, 174.10329374865051, 0.0)), Location(37th Street, Anchorage, Alaska, 99506, United States, (61.269377907823475, -149.8110735235881, 0.0)), Location(Unorganized Borough, Alaska, 99731, United States, (63.96595475, -145.71614973785188, 0.0)), Location(Anchorage, Alaska, 99505, United States, (61.26647030083226, -149.6412227645382, 0.0)), Location(Fairbanks North Star Borough, Alaska, United States, (64.8649039, -146.7751619, 0.0)), Location(Clear Highway, Anderson, Denali Borough, Alaska, 99704, United States, (64.28600485, -149.19066049999998, 0.0)), Location(Fairbanks North Star Borough, Alaska, 99702, United States, (64.6751451, -147.0644002, 0.0)), Location(Yuma County, Arizona, United States, (32.7915374, -113.897503, 0.0)), Location(East Prescott Street, Tucson, Pima County, Arizona, 85708, United States, (32.16082164335311, -110.84872228511806, 0.0)), Location(Luke Air Force Base, West Bethany Home Road, Maricopa County, Arizona, 85309, United States, (33.5354345, -112.37352271720567, 0.0)), Location(Thompson Street, Sierra Vista, Cochise County, Arizona, 85670, United States, (31.567616286075424, -110.3295289983807, 0.0)), Location(North Ordnance Loop Road, Yuma, Yuma County, Arizona, United States, (32.6448683, -114.6011582, 0.0)), Location(McCoy Road, Jefferson County, Arkansas, United States, (34.329358, -92.085745, 0.0)), Location(Little Rock Air Force Base, Green Acres Road, Jacksonville, Hill Township, Pulaski County, Arkansas, 72076, United States, (34.90592735, -92.13876998759838, 0.0)), Location(Nevada Avenue, Vandenberg AFB, Santa Barbara County, California, 93437, United States, (34.71349793790733, -120.55810567008359, 0.0)), Location(San Diego County, California, United States, (32.9637838, -116.7706277, 0.0)), Location(San Bernardino County, California, United States, (35.37213317193945, -116.63406187367143, 0.0)), Location(Naval Base Point Loma, Lawrence Street, La Playa, San Diego, San Diego County, California, 92106, United States, (32.69410105, -117.24939058131635, 0.0)), Location(OM7396, Desert View Housing Area, Barstow, San Bernardino County, California, United States, (34.859352057052355, -116.9445531695298, 0.0)), Location(Imperial County, California, United States, (33.0305487, -115.3595666, 0.0)), Location(Ventura County, California, United States, (33.244953850781386, -119.51010330984899, 0.0)), Location(13th Street, Ventura County, California, 93042, United States, (34.11166748996652, -119.11016807754346, 0.0)), Location(Inyo County, California, United States, (35.940148974472066, -117.64313279228158, 0.0)), Location(San Bernardino County, California, United States, (34.8253019, -116.0833144, 0.0)), Location(Lemoore Naval Air Station, Kings County, California, United States, (36.31919594356597, -119.93196071908616, 0.0)), Location(Burgan Boulevard, Travis Field, Fairfield, Solano County, California, 94535, United States, (38.261181449999995, -121.94063639655437, 0.0)), Location(Doolittle Drive, Yuba County, California, 95903, United States, (39.12099245, -121.39499481579301, 0.0)), Location(F Road, Coronado, San Diego County, California, 92135, United States, (32.69867764999999, -117.20638752112879, 0.0)), Location(Basilone Road, Marine Corps Base Camp Pendleton, San Diego County, California, United States, (33.36138767479902, -117.42389692789911, 0.0)), Location(Kern County, California, United States, (35.3145701, -118.753822, 0.0)), Location(Sierra Army Depot, Magazine Road, Herlong, Lassen County, California, United States, (40.2065469, -120.1330305, 0.0)), Location(Pier 7, National City, San Diego County, California, 92136, United States, (32.675695865872974, -117.12270709099366, 0.0)), Location(Camp Elliott Road / Green Farm Road, San Diego, San Diego County, California, 92137, United States, (32.87612584988733, -117.08543933984916, 0.0)), Location(Devlin Road, Seal Beach, Orange County, California, 90740, United States, (33.75044093381267, -118.0607405641027, 0.0)), Location(Naval Air Facility El Centro, A Street, Imperial County, California, 92273, United States, (32.823353, -115.66785507473844, 0.0)), Location(Buckley Space Force Base, CO 30, Aurora, Arapahoe County, Colorado, 80018, United States, (39.70268945, -104.75597896484052, 0.0)), Location(O'Malley Avenue, El Paso County, Colorado, 80930, United States, (38.804724300000004, -104.52113145000001, 0.0)), Location(Colorado Springs, El Paso County, Colorado, 80914, United States, (38.822881347311494, -104.69609595545712, 0.0)), Location(Lytle Road, El Paso County, Colorado, United States, (38.55909711245512, -104.82601011866451, 0.0)), Location(United States Air Force Academy, El Paso County, Colorado, United States, (38.991238100000004, -104.85883459940119, 0.0)), Location(Dover Air Force Base, Korean War Veterans Memorial Highway, Dover Base, Kent County, Delaware, 19902, United States, (39.128304799999995, -75.46791931717073, 0.0)), Location(Bolling Air Force Base Heliport, Mac Dill Boulevard Southwest, Ward 8, Washington, District of Columbia, 20332, United States, (38.8451492, -77.01445136726974, 0.0)), Location(Pensacola Naval Air Station/Forrest Sherman Field, Narvaez Lane, Pensacola, Escambia County, Florida, 32508, United States, (30.3518607, -87.30081450678912, 0.0)), Location(MacDill Air Force Base, MacDill Trail, Crescent Park, Tampa, Hillsborough County, Florida, 33621, United States, (27.84364085, -82.50287224965905, 0.0)), Location(Control Road, Brevard County, Florida, 32925, United States, (28.2324716, -80.6065865, 0.0)), Location(Naval Air Station Jacksonville Golf Course, Degor Avenue, Jacksonville, Duval County, Florida, 32214, United States, (30.2148596, -81.68686542154136, 0.0)), Location(Magazine Road, Jacksonville, Duval County, Florida, 32227, United States, (30.381572017173383, -81.42629464581496, 0.0)), Location(Roger J Clary Highway, Okaloosa County, Florida, United States, (30.575461376786205, -86.53017228011032, 0.0)), Location(Red Horse Road, Okaloosa County, Florida, 32544, United States, (30.428970967723952, -86.69843778114583, 0.0)), Location(Subway, 7160, Uss Wasp Street, Milton, Santa Rosa County, Florida, 32570, United States, (30.7142055, -87.0200926, 0.0)), Location(Naval Support Activity Panama City, Hathaway Bridge, Upper Grand Lagoon, Bay County, Florida, 32411, United States, (30.17359095, -85.75506825228301, 0.0)), Location(Saratoga Avenue, Monroe County, Florida, United States, (24.5746171, -81.6890248, 0.0)), Location(US 98, Bay County, Florida, United States, (30.042052117421505, -85.55400273066442, 0.0)), Location(1st Division Road, Chattahoochee County, Georgia, United States, (32.39912417789629, -84.8005260906445, 0.0)), Location(Hunter Army Airfield, 525, Warehouse Drive, Savannah, Chatham County, Georgia, 31409, United States, (32.009377400000005, -81.15073343830846, 0.0)), Location(Robins Air Force Base, Eas, Houston County, Georgia, 31098, United States, (32.617825800000006, -83.57707458530038, 0.0)), Location(Lanier County, Georgia, 31699, United States, (30.97295272036165, -83.16309066549499, 0.0)), Location(Camden County, Georgia, 31547, United States, (30.7913985, -81.5343823, 0.0)), Location(Augusta, Richmond County, Georgia, United States, (33.4709714, -81.9748429, 0.0)), Location(Liberty County, Georgia, United States, (31.9896918, -81.6162003, 0.0)), Location(Radford Boulevard, Dougherty County, Georgia, 31704, United States, (31.551345893032025, -84.0558796655006, 0.0)), Location(Joint Base Pearl Harbor-Hickam Main, Admiral Bernard Chick Clarey Bridge, Hālawa, Waipahu, Honolulu County, Hawaii, 96701, United States, (21.340583449999997, -157.9513403990999, 0.0)), Location(Leilehua Avenue, Honolulu County, Hawaii, 96957, United States, (21.495912852288527, -158.05297982412446, 0.0)), Location(1543, Kawakawa Lane, Honolulu County, Hawaii, 96734, United States, (21.44533428592452, -157.75173555460822, 0.0)), Location(Owyhee County, Idaho, United States, (42.4677336, -116.1590085, 0.0)), Location(Gunfighter Avenue, Elmore County, Idaho, 83648, United States, (43.04789027512864, -115.86510662849125, 0.0)), Location(Scott Air Force Base, Scott Drive, Saint Clair County, Illinois, 62225, United States, (38.543839000000006, -89.85277413739041, 0.0)), Location(Highway 58, Martin County, Indiana, United States, (38.84130697474564, -86.81246627577308, 0.0)), Location(1200 Road North, Riley County, Kansas, United States, (39.1894351, -96.8218031, 0.0)), Location(McConnell Air Force Base, Leavenworth, Gypsum Township, Sedgwick County, Kansas, 67221, United States, (37.62642235, -97.26189275010645, 0.0)), Location(Leavenworth, Leavenworth County, Kansas, 66027, United States, (39.36457003802554, -94.91825649683783, 0.0)), Location(Hardin County, Kentucky, United States, (37.6645815, -85.9634901, 0.0)), Location(Christian County, Kentucky, 42254, United States, (36.669032, -87.669699, 0.0)), Location(Naval Air Staton Joint Reserve Base New Orleans, Lake Park Drive, Belle Chasse, Plaquemines Parish, Louisiana, 70037, United States, (29.829182699999997, -90.02446581515082, 0.0)), Location(Vernon Parish, Louisiana, United States, (31.160158098494918, -93.12097893754009, 0.0)), Location(Bossier City, Bossier Parish, Louisiana, United States, (32.49967, -93.603745, 0.0)), Location(1013, Stark Street, Frederick, Frederick County, Maryland, 21702, United States, (39.43948315058948, -77.4330007019233, 0.0)), Location(Atkins Road, Charles County, Maryland, 20658, United States, (38.58302352111195, -77.18517062052398, 0.0)), Location(Naval Air Station Patuxent River, Saint Mary's County, Maryland, 20670, United States, (38.281794149999996, -76.4252567676139, 0.0)), Location(Joint Base Andrews, Foxley Road, Prince George's County, Maryland, 20762, United States, (38.8057469, -76.87741646487015, 0.0)), Location(Naval Outlying Field Webster, Villa Road, Saint Inigoes Shores, Saint Mary's County, Maryland, 20684, United States, (38.1459597, -76.4285623, 0.0)), Location(Romney Creek Road, Harford County, Maryland, United States, (39.39214553829921, -76.22086135131408, 0.0)), Location(Cooper Avenue, Fort Meade, Anne Arundel County, Maryland, 20755, United States, (39.10454115, -76.74531339358006, 0.0)), Location(Marrett Street, Lincoln, Middlesex County, Massachusetts, 01731, United States, (42.4585923, -71.27662042742608, 0.0)), Location(Lauderdale County, Mississippi, 39309, United States, (32.55283362349357, -88.5690284379302, 0.0)), Location(Keesler Air Force Base, E Street, Biloxi, Harrison County, Mississippi, 39534, United States, (30.4094294, -88.91886496725886, 0.0)), Location(Columbus Air Force Base, Madison Drive, Lowndes County, Mississippi, 39705, United States, (33.6406328, -88.45368758691839, 0.0)), Location(Whiteman AFB, Southeast 821 Road, Johnson County, Missouri, 65336, United States, (38.7299184, -93.56134359681118, 0.0)), Location(Iowa Avenue, Bloodland, Pulaski County, Missouri, United States, (37.705143352553144, -92.15409976902825, 0.0)), Location(Malmstrom Air Force Base, 67th Street Northeast, Great Falls, Cascade County, Montana, 59402, United States, (47.50486505000001, -111.17851393654759, 0.0)), Location(Offutt Air Force Base, Looking Glass Avenue, Sarpy County, Nebraska, 68113, United States, (41.1183758, -95.9101309, 0.0)), Location(Clark County, Nevada, United States, (36.3467726, -115.090737, 0.0)), Location(Clark County, Nevada, United States, (36.3467726, -115.090737, 0.0)), Location(Union Lane, Fallon Station, Churchill County, Nevada, United States, (39.41961935, -118.7072534757776, 0.0)), Location(Manor Road, New Hanover Township, Burlington County, New Jersey, 08641, United States, (40.02511345, -74.58019596065915, 0.0)), Location(Wet Break Road, New Hanover Township, Burlington County, New Jersey, United States, (40.007445557672476, -74.52395932641515, 0.0)), Location(Jackson Township, Ocean County, New Jersey, United States, (40.02707537090311, -74.37507652215362, 0.0)), Location(Craine Road, Rockaway Township, Morris County, New Jersey, 07416, United States, (40.95409665120382, -74.54447631172972, 0.0)), Location(Sierra County, New Mexico, United States, (33.1616355, -106.4202433319209, 0.0)), Location(Wsmr P Rt 9, Otero County, New Mexico, United States, (32.91775690139069, -106.13584328517074, 0.0)), Location(Bernalillo County, New Mexico, United States, (35.0007404, -106.4851711, 0.0)), Location(Cannon AFB, Courier Court, Joe Cannon Estates Housing, Curry County, New Mexico, 88103, United States, (34.38639125, -103.31632802390618, 0.0)), Location(Nauvoo School Road, Town of Wilna, Jefferson County, New York, United States, (44.12829431184086, -75.5889536446031, 0.0)), Location(NY 293, Village of Woodbury, Town of Woodbury, Town of Highlands, Orange County, New York, 10922, United States, (41.36385255, -74.02383342525056, 0.0)), Location(Marine Corps Base Camp Lejeune, Onslow County, North Carolina, United States, (34.63973385, -77.34183480015744, 0.0)), Location(Fort Bragg, Hoke County, North Carolina, United States, (35.140311, -79.15414649804102, 0.0)), Location(Marine Corps Air Station Cherry Point (Cunningham Field), Havelock, Craven County, North Carolina, 28533, United States, (34.91518979999999, -76.88404532476262, 0.0)), Location(1356, Blakeslee Avenue, Goldsboro, Wayne County, North Carolina, 27534, United States, (35.347967211547896, -77.96261355233916, 0.0)), Location(Special Forces Way, Scotland County, North Carolina, United States, (35.031271801402056, -79.4794531953714, 0.0)), Location(Minot Air Force Base, 156th Avenue Northwest, Ward County, North Dakota, 58705, United States, (48.420010950000005, -101.33720953659139, 0.0)), Location(1st Avenue, Grand Forks County, North Dakota, 58205, United States, (47.95456956243435, -97.3916953971756, 0.0)), Location(Wright-Patterson Air Force Base, Bath Township, Greene County, Ohio, 45433, United States, (39.82190525, -84.04958861168211, 0.0)), Location(Enid, Garfield County, Oklahoma, United States, (36.3967623, -97.8791341, 0.0)), Location(Altus Air Force Base, N2073 Road, Altus, Jackson County, Oklahoma, 73521, United States, (34.66427175, -99.26915192152376, 0.0)), Location(Reserve Road, Oklahoma City, Oklahoma County, Oklahoma, 73145, United States, (35.4185644, -97.3938715, 0.0)), Location(Comanche County, Oklahoma, United States, (34.6557505, -98.4485103, 0.0)), Location(Electronics Drive, Coolbaugh Township, Monroe County, Pennsylvania, United States, (41.197584456161906, -75.42910168517972, 0.0)), Location(H Street, Hampden Township, Cumberland County, Pennsylvania, 17050, United States, (40.22745634901641, -76.9863915788382, 0.0)), Location(110, Lay Street, Middletown, Newport County, Rhode Island, 02841, United States, (41.535219999999995, -71.309740644, 0.0)), Location(Columbia, Richland County, South Carolina, United States, (34.000754, -81.0352313, 0.0)), Location(Charleston Air Force Base, S-10-1126, North Charleston, Charleston County, South Carolina, 29406, United States, (32.90042065, -80.05142329951008, 0.0)), Location(Marine Corps Recruit Depot Parris Island, Port Royal, Beaufort County, South Carolina, 29905, United States, (32.33674875, -80.69170953503675, 0.0)), Location(Shaw Air Force Base, Harm Drive, Sumter, Sumter County, South Carolina, 29152, United States, (33.97369555, -80.46649139337978, 0.0)), Location(R C West Road East, Beaufort, Beaufort County, South Carolina, United States, (32.48704438829926, -80.70895598086871, 0.0)), Location(2009, Red Bank Road, Naval Nuclear Power Training Command, Goose Creek, Berkeley County, South Carolina, 29445, United States, (32.961980448352364, -79.96362461477973, 0.0)), Location(Rickenbacker, Meade County, South Dakota, 57706, United States, (44.1563502, -103.0945767, 0.0)), Location(326, Tarawa Avenue, Millington, Shelby County, West Tennessee, Tennessee, 38054, United States, (35.331423965504676, -89.87080225879461, 0.0)), Location(Rifle Range Road, Coffee County, Middle Tennessee, Tennessee, United States, (35.36399872314303, -86.07503295682855, 0.0)), Location(Arkansas Street, Val Verde County, Texas, 78843, United States, (29.3599252, -100.78564931412328, 0.0)), Location(Otero County, New Mexico, United States, (32.5059533, -105.8063662, 0.0)), Location(Bowie County, Texas, United States, (33.43391433524322, -94.35343906677834, 0.0)), Location(San Angelo, Tom Green County, Texas, 76908, United States, (31.43285073867114, -100.40421159584835, 0.0)), Location(2422, Kelly Drive, Bexar County, Texas, 78236, United States, (29.386913483221477, -98.61808357046979, 0.0)), Location(Dyess Air Force Base, 232, Texas Drive, Abilene, Taylor County, Texas, 79606, United States, (32.42063865, -99.83817709285637, 0.0)), Location(Sheppard Air Force Base, 1810, Avenue J, Wichita Falls, Wichita County, Texas, 76311, United States, (33.98750455, -98.50127258819343, 0.0)), Location(Old Jack Mountain Road, Coryell County, Texas, United States, (31.2167224, -97.7359456, 0.0)), Location(Kingsville Naval Air Station, Mitscher Avenue, Kleberg County, Texas, 78316, United States, (27.5032888, -97.80913638739713, 0.0)), Location(Corpus Christi Naval Air Station (Truax Field), Siskin Circle, Corpus Christi, Nueces County, Texas, 78418, United States, (27.692197, -97.27602153978142, 0.0)), Location(Arizona Street, Davis County, Utah, 84056, United States, (41.1275714, -111.99126871279958, 0.0)), Location(Tooele County, Utah, United States, (40.4062872, -113.1966394, 0.0)), Location(Al Jubayl Road, Virginia Beach, Virginia, United States, (36.9230357, -76.017519, 0.0)), Location(1267, West C Street, Norfolk, Virginia, 23511, United States, (36.94308691836735, -76.30150128571428, 0.0)), Location(Shop Road, Fort Gregg-Adams, Prince George County, Virginia, 23801, United States, (37.24919575, -77.33501576154313, 0.0)), Location(Peddars Way, Norfolk, Virginia, 23505, United States, (36.92478955, -76.29945835, 0.0)), Location(Turkey Road, York County, Virginia, 23694, United States, (37.24499, -76.583943, 0.0)), Location(Caskey Road, Dahlgren Center, King George County, Virginia, 22448, United States, (38.33981714795145, -77.03318552803286, 0.0)), Location(Naval Air Station Oceana, London Bridge Road, Colony Acres, Virginia Beach, Virginia, 23460, United States, (36.8119877, -76.02791921530527, 0.0)), Location(Accomack County, Virginia, United States, (37.7422207, -75.6743538, 0.0)), Location(Terrier Avenue, Virginia Beach, Virginia, 23461, United States, (36.78818515, -75.96535422143828, 0.0)), Location(Newport News, Virginia, United States, (36.9775016, -76.42977, 0.0)), Location(Caroline County, Virginia, United States, (38.0320305, -77.362363, 0.0)), Location(Poplar Road, Hampton, Virginia, 23665, United States, (37.087353516777725, -76.3630719997306, 0.0)), Location(SR 617, Stafford County, Virginia, United States, (38.55321534784247, -77.4569046978553, 0.0)), Location(3856, Helicopter Road, Virginia Beach, Virginia, 23459, United States, (36.916986949999995, -76.1627843437969, 0.0)), Location(Richmond Highway, Accotink, Fairfax County, Virginia, 22060, United States, (38.70877489072151, -77.15651145219157, 0.0)), Location(Fairchild Air Force Base, O'Malley Road, Spokane County, Washington, 99011, United States, (47.6160847, -117.64699947567766, 0.0)), Location(East Gate Road, Pierce County, Washington, United States, (47.04941386679264, -122.55411225758955, 0.0)), Location(Ranger Street, Island County, Washington, 98278, United States, (48.3421924, -122.66375387926578, 0.0)), Location(Francis E. Warren Air Force Base, Green Mountain Road, Ranchettes, Laramie County, Wyoming, 82009, United States, (41.1658714, -104.86328020315005, 0.0))]\n"
     ]
    }
   ],
   "source": [
    "# # CAUTION code makes call to external API to get location data from lat-long\n",
    "# city_loc = []\n",
    "# geolocator = Nominatim(user_agent=\"me\")\n",
    "# for ll in loc_df[\"Geo Point\"]:\n",
    "#     location = geolocator.reverse(ll)\n",
    "#     city_loc.append(location)"
   ]
  },
  {
   "cell_type": "code",
   "execution_count": null,
   "metadata": {},
   "outputs": [
    {
     "name": "stdout",
     "output_type": "stream",
     "text": [
      "163\n",
      "['Maxwell Air Force Base, Burkett Drive, Montgomery, Montgomery County, Alabama, 36113, United States', 'Mariner Road, Madison County, Alabama, United States', 'Elwood Avenue, Calhoun County, Alabama, United States', 'Dale County, Alabama, United States', 'AN/GSC-52 SATCOM terminal, Satellite Communications Facility, Unorganized Borough, Alaska, United States', '37th Street, Anchorage, Alaska, 99506, United States', 'Unorganized Borough, Alaska, 99731, United States', 'Anchorage, Alaska, 99505, United States', 'Fairbanks North Star Borough, Alaska, United States', 'Clear Highway, Anderson, Denali Borough, Alaska, 99704, United States', 'Fairbanks North Star Borough, Alaska, 99702, United States', 'Yuma County, Arizona, United States', 'East Prescott Street, Tucson, Pima County, Arizona, 85708, United States', 'Luke Air Force Base, West Bethany Home Road, Maricopa County, Arizona, 85309, United States', 'Thompson Street, Sierra Vista, Cochise County, Arizona, 85670, United States', 'North Ordnance Loop Road, Yuma, Yuma County, Arizona, United States', 'McCoy Road, Jefferson County, Arkansas, United States', 'Little Rock Air Force Base, Green Acres Road, Jacksonville, Hill Township, Pulaski County, Arkansas, 72076, United States', 'Nevada Avenue, Vandenberg AFB, Santa Barbara County, California, 93437, United States', 'San Diego County, California, United States', 'San Bernardino County, California, United States', 'Naval Base Point Loma, Lawrence Street, La Playa, San Diego, San Diego County, California, 92106, United States', 'OM7396, Desert View Housing Area, Barstow, San Bernardino County, California, United States', 'Imperial County, California, United States', 'Ventura County, California, United States', '13th Street, Ventura County, California, 93042, United States', 'Inyo County, California, United States', 'San Bernardino County, California, United States', 'Lemoore Naval Air Station, Kings County, California, United States', 'Burgan Boulevard, Travis Field, Fairfield, Solano County, California, 94535, United States', 'Doolittle Drive, Yuba County, California, 95903, United States', 'F Road, Coronado, San Diego County, California, 92135, United States', 'Basilone Road, Marine Corps Base Camp Pendleton, San Diego County, California, United States', 'Kern County, California, United States', 'Sierra Army Depot, Magazine Road, Herlong, Lassen County, California, United States', 'Pier 7, National City, San Diego County, California, 92136, United States', 'Camp Elliott Road / Green Farm Road, San Diego, San Diego County, California, 92137, United States', 'Devlin Road, Seal Beach, Orange County, California, 90740, United States', 'Naval Air Facility El Centro, A Street, Imperial County, California, 92273, United States', 'Buckley Space Force Base, CO 30, Aurora, Arapahoe County, Colorado, 80018, United States', \"O'Malley Avenue, El Paso County, Colorado, 80930, United States\", 'Colorado Springs, El Paso County, Colorado, 80914, United States', 'Lytle Road, El Paso County, Colorado, United States', 'United States Air Force Academy, El Paso County, Colorado, United States', 'Dover Air Force Base, Korean War Veterans Memorial Highway, Dover Base, Kent County, Delaware, 19902, United States', 'Bolling Air Force Base Heliport, Mac Dill Boulevard Southwest, Ward 8, Washington, District of Columbia, 20332, United States', 'Pensacola Naval Air Station/Forrest Sherman Field, Narvaez Lane, Pensacola, Escambia County, Florida, 32508, United States', 'MacDill Air Force Base, MacDill Trail, Crescent Park, Tampa, Hillsborough County, Florida, 33621, United States', 'Control Road, Brevard County, Florida, 32925, United States', 'Naval Air Station Jacksonville Golf Course, Degor Avenue, Jacksonville, Duval County, Florida, 32214, United States', 'Magazine Road, Jacksonville, Duval County, Florida, 32227, United States', 'Roger J Clary Highway, Okaloosa County, Florida, United States', 'Red Horse Road, Okaloosa County, Florida, 32544, United States', 'Subway, 7160, Uss Wasp Street, Milton, Santa Rosa County, Florida, 32570, United States', 'Naval Support Activity Panama City, Hathaway Bridge, Upper Grand Lagoon, Bay County, Florida, 32411, United States', 'Saratoga Avenue, Monroe County, Florida, United States', 'US 98, Bay County, Florida, United States', '1st Division Road, Chattahoochee County, Georgia, United States', 'Hunter Army Airfield, 525, Warehouse Drive, Savannah, Chatham County, Georgia, 31409, United States', 'Robins Air Force Base, Eas, Houston County, Georgia, 31098, United States', 'Lanier County, Georgia, 31699, United States', 'Camden County, Georgia, 31547, United States', 'Augusta, Richmond County, Georgia, United States', 'Liberty County, Georgia, United States', 'Radford Boulevard, Dougherty County, Georgia, 31704, United States', 'Joint Base Pearl Harbor-Hickam Main, Admiral Bernard Chick Clarey Bridge, Hālawa, Waipahu, Honolulu County, Hawaii, 96701, United States', 'Leilehua Avenue, Honolulu County, Hawaii, 96957, United States', '1543, Kawakawa Lane, Honolulu County, Hawaii, 96734, United States', 'Owyhee County, Idaho, United States', 'Gunfighter Avenue, Elmore County, Idaho, 83648, United States', 'Scott Air Force Base, Scott Drive, Saint Clair County, Illinois, 62225, United States', 'Highway 58, Martin County, Indiana, United States', '1200 Road North, Riley County, Kansas, United States', 'McConnell Air Force Base, Leavenworth, Gypsum Township, Sedgwick County, Kansas, 67221, United States', 'Leavenworth, Leavenworth County, Kansas, 66027, United States', 'Hardin County, Kentucky, United States', 'Christian County, Kentucky, 42254, United States', 'Naval Air Staton Joint Reserve Base New Orleans, Lake Park Drive, Belle Chasse, Plaquemines Parish, Louisiana, 70037, United States', 'Vernon Parish, Louisiana, United States', 'Bossier City, Bossier Parish, Louisiana, United States', '1013, Stark Street, Frederick, Frederick County, Maryland, 21702, United States', 'Atkins Road, Charles County, Maryland, 20658, United States', \"Naval Air Station Patuxent River, Saint Mary's County, Maryland, 20670, United States\", \"Joint Base Andrews, Foxley Road, Prince George's County, Maryland, 20762, United States\", \"Naval Outlying Field Webster, Villa Road, Saint Inigoes Shores, Saint Mary's County, Maryland, 20684, United States\", 'Romney Creek Road, Harford County, Maryland, United States', 'Cooper Avenue, Fort Meade, Anne Arundel County, Maryland, 20755, United States', 'Marrett Street, Lincoln, Middlesex County, Massachusetts, 01731, United States', 'Lauderdale County, Mississippi, 39309, United States', 'Keesler Air Force Base, E Street, Biloxi, Harrison County, Mississippi, 39534, United States', 'Columbus Air Force Base, Madison Drive, Lowndes County, Mississippi, 39705, United States', 'Whiteman AFB, Southeast 821 Road, Johnson County, Missouri, 65336, United States', 'Iowa Avenue, Bloodland, Pulaski County, Missouri, United States', 'Malmstrom Air Force Base, 67th Street Northeast, Great Falls, Cascade County, Montana, 59402, United States', 'Offutt Air Force Base, Looking Glass Avenue, Sarpy County, Nebraska, 68113, United States', 'Clark County, Nevada, United States', 'Clark County, Nevada, United States', 'Union Lane, Fallon Station, Churchill County, Nevada, United States', 'Manor Road, New Hanover Township, Burlington County, New Jersey, 08641, United States', 'Wet Break Road, New Hanover Township, Burlington County, New Jersey, United States', 'Jackson Township, Ocean County, New Jersey, United States', 'Craine Road, Rockaway Township, Morris County, New Jersey, 07416, United States', 'Sierra County, New Mexico, United States', 'Wsmr P Rt 9, Otero County, New Mexico, United States', 'Bernalillo County, New Mexico, United States', 'Cannon AFB, Courier Court, Joe Cannon Estates Housing, Curry County, New Mexico, 88103, United States', 'Nauvoo School Road, Town of Wilna, Jefferson County, New York, United States', 'NY 293, Village of Woodbury, Town of Woodbury, Town of Highlands, Orange County, New York, 10922, United States', 'Marine Corps Base Camp Lejeune, Onslow County, North Carolina, United States', 'Fort Bragg, Hoke County, North Carolina, United States', 'Marine Corps Air Station Cherry Point (Cunningham Field), Havelock, Craven County, North Carolina, 28533, United States', '1356, Blakeslee Avenue, Goldsboro, Wayne County, North Carolina, 27534, United States', 'Special Forces Way, Scotland County, North Carolina, United States', 'Minot Air Force Base, 156th Avenue Northwest, Ward County, North Dakota, 58705, United States', '1st Avenue, Grand Forks County, North Dakota, 58205, United States', 'Wright-Patterson Air Force Base, Bath Township, Greene County, Ohio, 45433, United States', 'Enid, Garfield County, Oklahoma, United States', 'Altus Air Force Base, N2073 Road, Altus, Jackson County, Oklahoma, 73521, United States', 'Reserve Road, Oklahoma City, Oklahoma County, Oklahoma, 73145, United States', 'Comanche County, Oklahoma, United States', 'Electronics Drive, Coolbaugh Township, Monroe County, Pennsylvania, United States', 'H Street, Hampden Township, Cumberland County, Pennsylvania, 17050, United States', '110, Lay Street, Middletown, Newport County, Rhode Island, 02841, United States', 'Columbia, Richland County, South Carolina, United States', 'Charleston Air Force Base, S-10-1126, North Charleston, Charleston County, South Carolina, 29406, United States', 'Marine Corps Recruit Depot Parris Island, Port Royal, Beaufort County, South Carolina, 29905, United States', 'Shaw Air Force Base, Harm Drive, Sumter, Sumter County, South Carolina, 29152, United States', 'R C West Road East, Beaufort, Beaufort County, South Carolina, United States', '2009, Red Bank Road, Naval Nuclear Power Training Command, Goose Creek, Berkeley County, South Carolina, 29445, United States', 'Rickenbacker, Meade County, South Dakota, 57706, United States', '326, Tarawa Avenue, Millington, Shelby County, West Tennessee, Tennessee, 38054, United States', 'Rifle Range Road, Coffee County, Middle Tennessee, Tennessee, United States', 'Arkansas Street, Val Verde County, Texas, 78843, United States', 'Otero County, New Mexico, United States', 'Bowie County, Texas, United States', 'San Angelo, Tom Green County, Texas, 76908, United States', '2422, Kelly Drive, Bexar County, Texas, 78236, United States', 'Dyess Air Force Base, 232, Texas Drive, Abilene, Taylor County, Texas, 79606, United States', 'Sheppard Air Force Base, 1810, Avenue J, Wichita Falls, Wichita County, Texas, 76311, United States', 'Old Jack Mountain Road, Coryell County, Texas, United States', 'Kingsville Naval Air Station, Mitscher Avenue, Kleberg County, Texas, 78316, United States', 'Corpus Christi Naval Air Station (Truax Field), Siskin Circle, Corpus Christi, Nueces County, Texas, 78418, United States', 'Arizona Street, Davis County, Utah, 84056, United States', 'Tooele County, Utah, United States', 'Al Jubayl Road, Virginia Beach, Virginia, United States', '1267, West C Street, Norfolk, Virginia, 23511, United States', 'Shop Road, Fort Gregg-Adams, Prince George County, Virginia, 23801, United States', 'Peddars Way, Norfolk, Virginia, 23505, United States', 'Turkey Road, York County, Virginia, 23694, United States', 'Caskey Road, Dahlgren Center, King George County, Virginia, 22448, United States', 'Naval Air Station Oceana, London Bridge Road, Colony Acres, Virginia Beach, Virginia, 23460, United States', 'Accomack County, Virginia, United States', 'Terrier Avenue, Virginia Beach, Virginia, 23461, United States', 'Newport News, Virginia, United States', 'Caroline County, Virginia, United States', 'Poplar Road, Hampton, Virginia, 23665, United States', 'SR 617, Stafford County, Virginia, United States', '3856, Helicopter Road, Virginia Beach, Virginia, 23459, United States', 'Richmond Highway, Accotink, Fairfax County, Virginia, 22060, United States', \"Fairchild Air Force Base, O'Malley Road, Spokane County, Washington, 99011, United States\", 'East Gate Road, Pierce County, Washington, United States', 'Ranger Street, Island County, Washington, 98278, United States', 'Francis E. Warren Air Force Base, Green Mountain Road, Ranchettes, Laramie County, Wyoming, 82009, United States']\n"
     ]
    }
   ],
   "source": [
    "# Decompose the location data into the city and lat-long\n",
    "city_name = []\n",
    "city_ll = []\n",
    "for i in range(0,len(city_loc)):\n",
    "    city_name.append(city_loc[i][0])\n",
    "    city_ll.append(city_loc[i][1])"
   ]
  },
  {
   "cell_type": "code",
   "execution_count": null,
   "metadata": {},
   "outputs": [],
   "source": [
    "# stitch together the city and lat-long into a dataframe\n",
    "city_df = pd.DataFrame({\"City\": city_name, \"Lat-Long\": city_ll})\n",
    "city_df[\"City\"] = city_df[\"City\"].str.split(\",\")\n",
    "\n",
    "# save the city dataframe to a file\n",
    "city_path = os.path.join(raw_dir, \"Location Data\\\\city_df.csv\")\n",
    "city_df.to_csv(city_path, index=False)"
   ]
  },
  {
   "cell_type": "code",
   "execution_count": null,
   "metadata": {},
   "outputs": [],
   "source": [
    "# read in file to dataframe\n",
    "city_df = pd.read_csv(city_path)"
   ]
  },
  {
   "cell_type": "code",
   "execution_count": 28,
   "metadata": {},
   "outputs": [
    {
     "data": {
      "text/html": [
       "<div>\n",
       "<style scoped>\n",
       "    .dataframe tbody tr th:only-of-type {\n",
       "        vertical-align: middle;\n",
       "    }\n",
       "\n",
       "    .dataframe tbody tr th {\n",
       "        vertical-align: top;\n",
       "    }\n",
       "\n",
       "    .dataframe thead th {\n",
       "        text-align: right;\n",
       "    }\n",
       "</style>\n",
       "<table border=\"1\" class=\"dataframe\">\n",
       "  <thead>\n",
       "    <tr style=\"text-align: right;\">\n",
       "      <th></th>\n",
       "      <th>City</th>\n",
       "      <th>Lat-Long</th>\n",
       "      <th>ZIP Code</th>\n",
       "    </tr>\n",
       "  </thead>\n",
       "  <tbody>\n",
       "    <tr>\n",
       "      <th>0</th>\n",
       "      <td>['Maxwell Air Force Base', ' Burkett Drive', '...</td>\n",
       "      <td>(32.3818479, -86.35330759865383)</td>\n",
       "      <td>36113</td>\n",
       "    </tr>\n",
       "    <tr>\n",
       "      <th>1</th>\n",
       "      <td>['Mariner Road', ' Madison County', ' Alabama'...</td>\n",
       "      <td>(34.63287805104256, -86.65713769680043)</td>\n",
       "      <td></td>\n",
       "    </tr>\n",
       "    <tr>\n",
       "      <th>2</th>\n",
       "      <td>['Elwood Avenue', ' Calhoun County', ' Alabama...</td>\n",
       "      <td>(33.6522778, -85.9688511)</td>\n",
       "      <td></td>\n",
       "    </tr>\n",
       "    <tr>\n",
       "      <th>3</th>\n",
       "      <td>['Dale County', ' Alabama', ' United States']</td>\n",
       "      <td>(31.39992542910119, -85.74747847025453)</td>\n",
       "      <td></td>\n",
       "    </tr>\n",
       "    <tr>\n",
       "      <th>4</th>\n",
       "      <td>['AN/GSC-52 SATCOM terminal', ' Satellite Comm...</td>\n",
       "      <td>(52.72235205, 174.10329374865051)</td>\n",
       "      <td></td>\n",
       "    </tr>\n",
       "  </tbody>\n",
       "</table>\n",
       "</div>"
      ],
      "text/plain": [
       "                                                City  \\\n",
       "0  ['Maxwell Air Force Base', ' Burkett Drive', '...   \n",
       "1  ['Mariner Road', ' Madison County', ' Alabama'...   \n",
       "2  ['Elwood Avenue', ' Calhoun County', ' Alabama...   \n",
       "3      ['Dale County', ' Alabama', ' United States']   \n",
       "4  ['AN/GSC-52 SATCOM terminal', ' Satellite Comm...   \n",
       "\n",
       "                                  Lat-Long ZIP Code  \n",
       "0         (32.3818479, -86.35330759865383)    36113  \n",
       "1  (34.63287805104256, -86.65713769680043)           \n",
       "2                (33.6522778, -85.9688511)           \n",
       "3  (31.39992542910119, -85.74747847025453)           \n",
       "4        (52.72235205, 174.10329374865051)           "
      ]
     },
     "execution_count": 28,
     "metadata": {},
     "output_type": "execute_result"
    }
   ],
   "source": [
    "# add ZIP code to the dataframe if it exists\n",
    "pattern = re.compile(r\"\\b\\d{5}\\b\")\n",
    "zip_code = []\n",
    "for c in city_df[\"City\"]:\n",
    "    matches = re.findall(pattern,c)\n",
    "    if not matches:\n",
    "        zip_code.append(\"\")\n",
    "    else:\n",
    "        zip_code.append(matches[0])\n",
    "\n",
    "city_df[\"ZIP Code\"] = zip_code\n",
    "city_df.head()"
   ]
  },
  {
   "cell_type": "code",
   "execution_count": null,
   "metadata": {},
   "outputs": [],
   "source": [
    "# save updated dataframe to file (overwrite existing)\n",
    "city_df.to_csv(city_path, index=False)"
   ]
  },
  {
   "cell_type": "markdown",
   "metadata": {},
   "source": [
    "Remaining ZIP Codes were entered manually"
   ]
  },
  {
   "cell_type": "code",
   "execution_count": 31,
   "metadata": {},
   "outputs": [],
   "source": [
    "# read CSV back in after manual edits\n",
    "city_df = pd.read_csv(city_path)"
   ]
  },
  {
   "cell_type": "code",
   "execution_count": 39,
   "metadata": {},
   "outputs": [
    {
     "data": {
      "text/html": [
       "<div>\n",
       "<style scoped>\n",
       "    .dataframe tbody tr th:only-of-type {\n",
       "        vertical-align: middle;\n",
       "    }\n",
       "\n",
       "    .dataframe tbody tr th {\n",
       "        vertical-align: top;\n",
       "    }\n",
       "\n",
       "    .dataframe thead th {\n",
       "        text-align: right;\n",
       "    }\n",
       "</style>\n",
       "<table border=\"1\" class=\"dataframe\">\n",
       "  <thead>\n",
       "    <tr style=\"text-align: right;\">\n",
       "      <th></th>\n",
       "      <th>ZIP</th>\n",
       "      <th>MHA</th>\n",
       "      <th>City</th>\n",
       "      <th>Lat-Long</th>\n",
       "      <th>ZIP Code</th>\n",
       "    </tr>\n",
       "  </thead>\n",
       "  <tbody>\n",
       "    <tr>\n",
       "      <th>0</th>\n",
       "      <td>1731</td>\n",
       "      <td>MA377</td>\n",
       "      <td>['Marrett Street', ' Lincoln', ' Middlesex Cou...</td>\n",
       "      <td>(42.4585923, -71.27662042742608)</td>\n",
       "      <td>1731</td>\n",
       "    </tr>\n",
       "    <tr>\n",
       "      <th>1</th>\n",
       "      <td>2841</td>\n",
       "      <td>RI256</td>\n",
       "      <td>['110', ' Lay Street', ' Middletown', ' Newpor...</td>\n",
       "      <td>(41.535219999999995, -71.309740644)</td>\n",
       "      <td>2841</td>\n",
       "    </tr>\n",
       "    <tr>\n",
       "      <th>2</th>\n",
       "      <td>7416</td>\n",
       "      <td>NJ202</td>\n",
       "      <td>['Craine Road', ' Rockaway Township', ' Morris...</td>\n",
       "      <td>(40.95409665120382, -74.54447631172972)</td>\n",
       "      <td>7416</td>\n",
       "    </tr>\n",
       "    <tr>\n",
       "      <th>3</th>\n",
       "      <td>8527</td>\n",
       "      <td>NJ204</td>\n",
       "      <td>['Jackson Township', ' Ocean County', ' New Je...</td>\n",
       "      <td>(40.02707537090311, -74.37507652215362)</td>\n",
       "      <td>8527</td>\n",
       "    </tr>\n",
       "    <tr>\n",
       "      <th>4</th>\n",
       "      <td>8641</td>\n",
       "      <td>NJ204</td>\n",
       "      <td>['Manor Road', ' New Hanover Township', ' Burl...</td>\n",
       "      <td>(40.02511345, -74.58019596065915)</td>\n",
       "      <td>8641</td>\n",
       "    </tr>\n",
       "  </tbody>\n",
       "</table>\n",
       "</div>"
      ],
      "text/plain": [
       "    ZIP    MHA                                               City  \\\n",
       "0  1731  MA377  ['Marrett Street', ' Lincoln', ' Middlesex Cou...   \n",
       "1  2841  RI256  ['110', ' Lay Street', ' Middletown', ' Newpor...   \n",
       "2  7416  NJ202  ['Craine Road', ' Rockaway Township', ' Morris...   \n",
       "3  8527  NJ204  ['Jackson Township', ' Ocean County', ' New Je...   \n",
       "4  8641  NJ204  ['Manor Road', ' New Hanover Township', ' Burl...   \n",
       "\n",
       "                                  Lat-Long  ZIP Code  \n",
       "0         (42.4585923, -71.27662042742608)      1731  \n",
       "1      (41.535219999999995, -71.309740644)      2841  \n",
       "2  (40.95409665120382, -74.54447631172972)      7416  \n",
       "3  (40.02707537090311, -74.37507652215362)      8527  \n",
       "4        (40.02511345, -74.58019596065915)      8641  "
      ]
     },
     "execution_count": 39,
     "metadata": {},
     "output_type": "execute_result"
    }
   ],
   "source": [
    "# merge the dataframe with the MHA/ZIP code dataframe\n",
    "# we will inner join onto the MHA/ZIP dataframe to drop MHAs that are not represented\n",
    "mha_coords_df = pd.merge(mha_zips_df, city_df, how=\"inner\", left_on=\"ZIP\", right_on=\"ZIP Code\")\n",
    "mha_coords_df.head()"
   ]
  },
  {
   "cell_type": "code",
   "execution_count": 40,
   "metadata": {},
   "outputs": [
    {
     "data": {
      "text/html": [
       "<div>\n",
       "<style scoped>\n",
       "    .dataframe tbody tr th:only-of-type {\n",
       "        vertical-align: middle;\n",
       "    }\n",
       "\n",
       "    .dataframe tbody tr th {\n",
       "        vertical-align: top;\n",
       "    }\n",
       "\n",
       "    .dataframe thead th {\n",
       "        text-align: right;\n",
       "    }\n",
       "</style>\n",
       "<table border=\"1\" class=\"dataframe\">\n",
       "  <thead>\n",
       "    <tr style=\"text-align: right;\">\n",
       "      <th></th>\n",
       "      <th>ZIP</th>\n",
       "      <th>MHA</th>\n",
       "      <th>Lat-Long</th>\n",
       "    </tr>\n",
       "  </thead>\n",
       "  <tbody>\n",
       "    <tr>\n",
       "      <th>0</th>\n",
       "      <td>1731</td>\n",
       "      <td>MA377</td>\n",
       "      <td>(42.4585923, -71.27662042742608)</td>\n",
       "    </tr>\n",
       "    <tr>\n",
       "      <th>1</th>\n",
       "      <td>2841</td>\n",
       "      <td>RI256</td>\n",
       "      <td>(41.535219999999995, -71.309740644)</td>\n",
       "    </tr>\n",
       "    <tr>\n",
       "      <th>2</th>\n",
       "      <td>7416</td>\n",
       "      <td>NJ202</td>\n",
       "      <td>(40.95409665120382, -74.54447631172972)</td>\n",
       "    </tr>\n",
       "    <tr>\n",
       "      <th>3</th>\n",
       "      <td>8527</td>\n",
       "      <td>NJ204</td>\n",
       "      <td>(40.02707537090311, -74.37507652215362)</td>\n",
       "    </tr>\n",
       "    <tr>\n",
       "      <th>4</th>\n",
       "      <td>8641</td>\n",
       "      <td>NJ204</td>\n",
       "      <td>(40.02511345, -74.58019596065915)</td>\n",
       "    </tr>\n",
       "  </tbody>\n",
       "</table>\n",
       "</div>"
      ],
      "text/plain": [
       "    ZIP    MHA                                 Lat-Long\n",
       "0  1731  MA377         (42.4585923, -71.27662042742608)\n",
       "1  2841  RI256      (41.535219999999995, -71.309740644)\n",
       "2  7416  NJ202  (40.95409665120382, -74.54447631172972)\n",
       "3  8527  NJ204  (40.02707537090311, -74.37507652215362)\n",
       "4  8641  NJ204        (40.02511345, -74.58019596065915)"
      ]
     },
     "execution_count": 40,
     "metadata": {},
     "output_type": "execute_result"
    }
   ],
   "source": [
    "# remove unnecessary columns\n",
    "del_cols = [\"City\",\"ZIP Code\"]\n",
    "mha_coords_df.drop(del_cols, axis=1, inplace=True)\n",
    "mha_coords_df.head()"
   ]
  },
  {
   "cell_type": "code",
   "execution_count": 42,
   "metadata": {},
   "outputs": [
    {
     "data": {
      "text/html": [
       "<div>\n",
       "<style scoped>\n",
       "    .dataframe tbody tr th:only-of-type {\n",
       "        vertical-align: middle;\n",
       "    }\n",
       "\n",
       "    .dataframe tbody tr th {\n",
       "        vertical-align: top;\n",
       "    }\n",
       "\n",
       "    .dataframe thead th {\n",
       "        text-align: right;\n",
       "    }\n",
       "</style>\n",
       "<table border=\"1\" class=\"dataframe\">\n",
       "  <thead>\n",
       "    <tr style=\"text-align: right;\">\n",
       "      <th></th>\n",
       "      <th>ZIP</th>\n",
       "      <th>MHA</th>\n",
       "      <th>Latitude</th>\n",
       "      <th>Longitude</th>\n",
       "    </tr>\n",
       "  </thead>\n",
       "  <tbody>\n",
       "    <tr>\n",
       "      <th>0</th>\n",
       "      <td>1731</td>\n",
       "      <td>MA377</td>\n",
       "      <td>42.4585923</td>\n",
       "      <td>-71.27662042742608</td>\n",
       "    </tr>\n",
       "    <tr>\n",
       "      <th>1</th>\n",
       "      <td>2841</td>\n",
       "      <td>RI256</td>\n",
       "      <td>41.535219999999995</td>\n",
       "      <td>-71.309740644</td>\n",
       "    </tr>\n",
       "    <tr>\n",
       "      <th>2</th>\n",
       "      <td>7416</td>\n",
       "      <td>NJ202</td>\n",
       "      <td>40.95409665120382</td>\n",
       "      <td>-74.54447631172972</td>\n",
       "    </tr>\n",
       "    <tr>\n",
       "      <th>3</th>\n",
       "      <td>8527</td>\n",
       "      <td>NJ204</td>\n",
       "      <td>40.02707537090311</td>\n",
       "      <td>-74.37507652215362</td>\n",
       "    </tr>\n",
       "    <tr>\n",
       "      <th>4</th>\n",
       "      <td>8641</td>\n",
       "      <td>NJ204</td>\n",
       "      <td>40.02511345</td>\n",
       "      <td>-74.58019596065915</td>\n",
       "    </tr>\n",
       "  </tbody>\n",
       "</table>\n",
       "</div>"
      ],
      "text/plain": [
       "    ZIP    MHA            Latitude           Longitude\n",
       "0  1731  MA377          42.4585923  -71.27662042742608\n",
       "1  2841  RI256  41.535219999999995       -71.309740644\n",
       "2  7416  NJ202   40.95409665120382  -74.54447631172972\n",
       "3  8527  NJ204   40.02707537090311  -74.37507652215362\n",
       "4  8641  NJ204         40.02511345  -74.58019596065915"
      ]
     },
     "execution_count": 42,
     "metadata": {},
     "output_type": "execute_result"
    }
   ],
   "source": [
    "# expand Lat-Long into two columns\n",
    "mha_coords_df[\"Lat-Long\"] = mha_coords_df[\"Lat-Long\"].str.replace(\"(\", \"\")\n",
    "mha_coords_df[\"Lat-Long\"] = mha_coords_df[\"Lat-Long\"].str.replace(\")\", \"\")\n",
    "coords_split = mha_coords_df[\"Lat-Long\"].str.split(\", \", expand=True)\n",
    "mha_coords_df[\"Latitude\"] = coords_split[0]\n",
    "mha_coords_df[\"Longitude\"] = coords_split[1]\n",
    "del_cols = [\"Lat-Long\"]\n",
    "mha_coords_df.drop(del_cols, axis=1, inplace=True)\n",
    "mha_coords_df.head()"
   ]
  },
  {
   "cell_type": "code",
   "execution_count": 49,
   "metadata": {},
   "outputs": [
    {
     "data": {
      "text/plain": [
       "Index(['MHA', 'CITY', 'STATE'], dtype='object')"
      ]
     },
     "execution_count": 49,
     "metadata": {},
     "output_type": "execute_result"
    }
   ],
   "source": [
    "mha_names_df.columns"
   ]
  },
  {
   "cell_type": "code",
   "execution_count": 50,
   "metadata": {},
   "outputs": [
    {
     "data": {
      "text/html": [
       "<div>\n",
       "<style scoped>\n",
       "    .dataframe tbody tr th:only-of-type {\n",
       "        vertical-align: middle;\n",
       "    }\n",
       "\n",
       "    .dataframe tbody tr th {\n",
       "        vertical-align: top;\n",
       "    }\n",
       "\n",
       "    .dataframe thead th {\n",
       "        text-align: right;\n",
       "    }\n",
       "</style>\n",
       "<table border=\"1\" class=\"dataframe\">\n",
       "  <thead>\n",
       "    <tr style=\"text-align: right;\">\n",
       "      <th></th>\n",
       "      <th>ZIP</th>\n",
       "      <th>MHA</th>\n",
       "      <th>Latitude</th>\n",
       "      <th>Longitude</th>\n",
       "      <th>CITY</th>\n",
       "      <th>STATE</th>\n",
       "    </tr>\n",
       "  </thead>\n",
       "  <tbody>\n",
       "    <tr>\n",
       "      <th>0</th>\n",
       "      <td>1731</td>\n",
       "      <td>MA377</td>\n",
       "      <td>42.4585923</td>\n",
       "      <td>-71.27662042742608</td>\n",
       "      <td>HANSCOM AFB</td>\n",
       "      <td>MA</td>\n",
       "    </tr>\n",
       "    <tr>\n",
       "      <th>1</th>\n",
       "      <td>2841</td>\n",
       "      <td>RI256</td>\n",
       "      <td>41.535219999999995</td>\n",
       "      <td>-71.309740644</td>\n",
       "      <td>NEWPORT</td>\n",
       "      <td>RI</td>\n",
       "    </tr>\n",
       "    <tr>\n",
       "      <th>2</th>\n",
       "      <td>7416</td>\n",
       "      <td>NJ202</td>\n",
       "      <td>40.95409665120382</td>\n",
       "      <td>-74.54447631172972</td>\n",
       "      <td>NORTHERN NEW JERSEY</td>\n",
       "      <td>NJ</td>\n",
       "    </tr>\n",
       "    <tr>\n",
       "      <th>3</th>\n",
       "      <td>8527</td>\n",
       "      <td>NJ204</td>\n",
       "      <td>40.02707537090311</td>\n",
       "      <td>-74.37507652215362</td>\n",
       "      <td>JB MCGUIRE-DIX-LAKEHURST</td>\n",
       "      <td>NJ</td>\n",
       "    </tr>\n",
       "    <tr>\n",
       "      <th>4</th>\n",
       "      <td>8641</td>\n",
       "      <td>NJ204</td>\n",
       "      <td>40.02511345</td>\n",
       "      <td>-74.58019596065915</td>\n",
       "      <td>JB MCGUIRE-DIX-LAKEHURST</td>\n",
       "      <td>NJ</td>\n",
       "    </tr>\n",
       "  </tbody>\n",
       "</table>\n",
       "</div>"
      ],
      "text/plain": [
       "    ZIP    MHA            Latitude           Longitude  \\\n",
       "0  1731  MA377          42.4585923  -71.27662042742608   \n",
       "1  2841  RI256  41.535219999999995       -71.309740644   \n",
       "2  7416  NJ202   40.95409665120382  -74.54447631172972   \n",
       "3  8527  NJ204   40.02707537090311  -74.37507652215362   \n",
       "4  8641  NJ204         40.02511345  -74.58019596065915   \n",
       "\n",
       "                       CITY STATE  \n",
       "0               HANSCOM AFB    MA  \n",
       "1                   NEWPORT    RI  \n",
       "2       NORTHERN NEW JERSEY    NJ  \n",
       "3  JB MCGUIRE-DIX-LAKEHURST    NJ  \n",
       "4  JB MCGUIRE-DIX-LAKEHURST    NJ  "
      ]
     },
     "execution_count": 50,
     "metadata": {},
     "output_type": "execute_result"
    }
   ],
   "source": [
    "# merge with the MHA names metadata\n",
    "# use a LEFT join on the MHA column onto the mha_coords_df\n",
    "\n",
    "mha_df = pd.merge(mha_coords_df, mha_names_df, how=\"left\", on=\"MHA\")\n",
    "mha_df.head()"
   ]
  },
  {
   "cell_type": "code",
   "execution_count": 51,
   "metadata": {},
   "outputs": [
    {
     "data": {
      "text/html": [
       "<div>\n",
       "<style scoped>\n",
       "    .dataframe tbody tr th:only-of-type {\n",
       "        vertical-align: middle;\n",
       "    }\n",
       "\n",
       "    .dataframe tbody tr th {\n",
       "        vertical-align: top;\n",
       "    }\n",
       "\n",
       "    .dataframe thead th {\n",
       "        text-align: right;\n",
       "    }\n",
       "</style>\n",
       "<table border=\"1\" class=\"dataframe\">\n",
       "  <thead>\n",
       "    <tr style=\"text-align: right;\">\n",
       "      <th></th>\n",
       "      <th>ZIP</th>\n",
       "      <th>MHA</th>\n",
       "      <th>Latitude</th>\n",
       "      <th>Longitude</th>\n",
       "      <th>CITY</th>\n",
       "      <th>STATE</th>\n",
       "    </tr>\n",
       "  </thead>\n",
       "  <tbody>\n",
       "    <tr>\n",
       "      <th>0</th>\n",
       "      <td>1731</td>\n",
       "      <td>MA377</td>\n",
       "      <td>42.4585923</td>\n",
       "      <td>-71.27662042742608</td>\n",
       "      <td>HANSCOM AFB</td>\n",
       "      <td>MA</td>\n",
       "    </tr>\n",
       "    <tr>\n",
       "      <th>1</th>\n",
       "      <td>2841</td>\n",
       "      <td>RI256</td>\n",
       "      <td>41.535219999999995</td>\n",
       "      <td>-71.309740644</td>\n",
       "      <td>NEWPORT</td>\n",
       "      <td>RI</td>\n",
       "    </tr>\n",
       "    <tr>\n",
       "      <th>2</th>\n",
       "      <td>7416</td>\n",
       "      <td>NJ202</td>\n",
       "      <td>40.95409665120382</td>\n",
       "      <td>-74.54447631172972</td>\n",
       "      <td>NORTHERN NEW JERSEY</td>\n",
       "      <td>NJ</td>\n",
       "    </tr>\n",
       "    <tr>\n",
       "      <th>3</th>\n",
       "      <td>8527</td>\n",
       "      <td>NJ204</td>\n",
       "      <td>40.02707537090311</td>\n",
       "      <td>-74.37507652215362</td>\n",
       "      <td>JB MCGUIRE-DIX-LAKEHURST</td>\n",
       "      <td>NJ</td>\n",
       "    </tr>\n",
       "    <tr>\n",
       "      <th>6</th>\n",
       "      <td>10922</td>\n",
       "      <td>NY217</td>\n",
       "      <td>41.36385255</td>\n",
       "      <td>-74.02383342525056</td>\n",
       "      <td>WEST POINT</td>\n",
       "      <td>NY</td>\n",
       "    </tr>\n",
       "  </tbody>\n",
       "</table>\n",
       "</div>"
      ],
      "text/plain": [
       "     ZIP    MHA            Latitude           Longitude  \\\n",
       "0   1731  MA377          42.4585923  -71.27662042742608   \n",
       "1   2841  RI256  41.535219999999995       -71.309740644   \n",
       "2   7416  NJ202   40.95409665120382  -74.54447631172972   \n",
       "3   8527  NJ204   40.02707537090311  -74.37507652215362   \n",
       "6  10922  NY217         41.36385255  -74.02383342525056   \n",
       "\n",
       "                       CITY STATE  \n",
       "0               HANSCOM AFB    MA  \n",
       "1                   NEWPORT    RI  \n",
       "2       NORTHERN NEW JERSEY    NJ  \n",
       "3  JB MCGUIRE-DIX-LAKEHURST    NJ  \n",
       "6                WEST POINT    NY  "
      ]
     },
     "execution_count": 51,
     "metadata": {},
     "output_type": "execute_result"
    }
   ],
   "source": [
    "# remove duplicate MHAs\n",
    "mha_df.drop_duplicates(subset=[\"MHA\"], inplace=True)\n",
    "mha_df.head()"
   ]
  },
  {
   "cell_type": "code",
   "execution_count": 52,
   "metadata": {},
   "outputs": [],
   "source": [
    "# save mha_df to csv\n",
    "mha_df.to_csv(os.path.join(raw_dir, \"Location Data\\\\mha_df_final.csv\"), index=False)"
   ]
  },
  {
   "cell_type": "code",
   "execution_count": null,
   "metadata": {},
   "outputs": [],
   "source": []
  }
 ],
 "metadata": {
  "kernelspec": {
   "display_name": "base",
   "language": "python",
   "name": "python3"
  },
  "language_info": {
   "codemirror_mode": {
    "name": "ipython",
    "version": 3
   },
   "file_extension": ".py",
   "mimetype": "text/x-python",
   "name": "python",
   "nbconvert_exporter": "python",
   "pygments_lexer": "ipython3",
   "version": "3.12.4"
  }
 },
 "nbformat": 4,
 "nbformat_minor": 2
}
